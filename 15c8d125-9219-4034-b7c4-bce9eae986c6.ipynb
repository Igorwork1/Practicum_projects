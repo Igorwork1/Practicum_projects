{
 "cells": [
  {
   "cell_type": "markdown",
   "id": "bf30f067",
   "metadata": {},
   "source": [
    "Привет! \n",
    "\n",
    "Меня зовут Кирилл, я буду проверять твой проект. Можешь обращаться ко мне на «ты». Если тебе комфортно, то и я буду к тебе так обращаться, если нет, то обязательно скажи об этом.\n",
    "\n",
    "Пожалуйста, не удаляй мои комментарии, которые я буду оставлять в работе. Это поможет, если твои проекты будут отправлены на повторную проверку. При повторных проверках у комментариев будут приписки: \"Вторая итерация\", \"Третья итерация\" и так далее.\n",
    "\n",
    "Ты тоже можешь реагировать на мои комментарии через markdown, но в таком случае постарайся, чтобы твои комментарии отличались от моих: например, выделяй их своим любимым цветом — так у нас не возникнет путаницы :)\n",
    "\n",
    "Кстати, про цвета! Мои комментарии будут в следующей цветовой гамме: зелеными, желтыми и красными. Например:\n",
    "\n",
    "<div class=\"alert-success\"> \n",
    "<b>Комментарий ревьюера 👍 </b>\n",
    "    \n",
    "В случае, если решение на отдельном шаге является полностью правильным. </div>\n",
    "\n",
    "\n",
    "<div class=\"alert-warning\"> \n",
    "<b>Комментарий ревьюера 💡</b> \n",
    "    \n",
    "В случае, если решение может стать еще лучше с некоторыми корректировками </div>\n",
    " \n",
    "<div class=\"alert-danger\"> \n",
    "<b>Комментарий ревьюера ❌</b> \n",
    "    \n",
    "В случае, если решение какого-то шага требует значительных изменений. Проект не может быть принят с первого раза, если ревью содержит комментарии, помеченные этим цветом </div>"
   ]
  },
  {
   "cell_type": "markdown",
   "id": "66dd1040",
   "metadata": {
    "deletable": false,
    "editable": false,
    "id": "c81daeeb"
   },
   "source": [
    "# Исследование надежности заемщиков\n"
   ]
  },
  {
   "cell_type": "markdown",
   "id": "ddac5e40",
   "metadata": {
    "deletable": false,
    "editable": false,
    "id": "827c20bf"
   },
   "source": [
    "Во второй части проекта вы выполните шаги 3 и 4. Их вручную проверит ревьюер.\n",
    "Чтобы вам не пришлось писать код заново для шагов 1 и 2, мы добавили авторские решения в ячейки с кодом. \n",
    "\n"
   ]
  },
  {
   "cell_type": "markdown",
   "id": "63911a05",
   "metadata": {
    "deletable": false,
    "editable": false,
    "id": "744d7639"
   },
   "source": [
    "## Откройте таблицу и изучите общую информацию о данных"
   ]
  },
  {
   "cell_type": "markdown",
   "id": "5202c009",
   "metadata": {
    "deletable": false,
    "editable": false,
    "id": "e7a14c31"
   },
   "source": [
    "**Задание 1. Импортируйте библиотеку pandas. Считайте данные из csv-файла в датафрейм и сохраните в переменную `data`. Путь к файлу:**\n",
    "\n",
    "`/datasets/data.csv`"
   ]
  },
  {
   "cell_type": "code",
   "execution_count": 1,
   "id": "2a47b92f",
   "metadata": {
    "deletable": false,
    "id": "7bcf75c9"
   },
   "outputs": [],
   "source": [
    "import pandas as pd\n",
    "\n",
    "try:\n",
    "    data = pd.read_csv('/datasets/data.csv')\n",
    "except:\n",
    "    data = pd.read_csv('https://code.s3.yandex.net/datasets/data.csv')"
   ]
  },
  {
   "cell_type": "markdown",
   "id": "ce318442",
   "metadata": {
    "deletable": false,
    "editable": false,
    "id": "b8038fe3"
   },
   "source": [
    "**Задание 2. Выведите первые 20 строчек датафрейма `data` на экран.**"
   ]
  },
  {
   "cell_type": "code",
   "execution_count": 2,
   "id": "97e40f0f",
   "metadata": {
    "deletable": false,
    "id": "2a7cab99",
    "outputId": "1a8f3ef2-d323-4ec2-ddf7-89670b5944c4"
   },
   "outputs": [
    {
     "data": {
      "text/html": [
       "<div>\n",
       "<style scoped>\n",
       "    .dataframe tbody tr th:only-of-type {\n",
       "        vertical-align: middle;\n",
       "    }\n",
       "\n",
       "    .dataframe tbody tr th {\n",
       "        vertical-align: top;\n",
       "    }\n",
       "\n",
       "    .dataframe thead th {\n",
       "        text-align: right;\n",
       "    }\n",
       "</style>\n",
       "<table border=\"1\" class=\"dataframe\">\n",
       "  <thead>\n",
       "    <tr style=\"text-align: right;\">\n",
       "      <th></th>\n",
       "      <th>children</th>\n",
       "      <th>days_employed</th>\n",
       "      <th>dob_years</th>\n",
       "      <th>education</th>\n",
       "      <th>education_id</th>\n",
       "      <th>family_status</th>\n",
       "      <th>family_status_id</th>\n",
       "      <th>gender</th>\n",
       "      <th>income_type</th>\n",
       "      <th>debt</th>\n",
       "      <th>total_income</th>\n",
       "      <th>purpose</th>\n",
       "    </tr>\n",
       "  </thead>\n",
       "  <tbody>\n",
       "    <tr>\n",
       "      <th>0</th>\n",
       "      <td>1</td>\n",
       "      <td>-8437.673028</td>\n",
       "      <td>42</td>\n",
       "      <td>высшее</td>\n",
       "      <td>0</td>\n",
       "      <td>женат / замужем</td>\n",
       "      <td>0</td>\n",
       "      <td>F</td>\n",
       "      <td>сотрудник</td>\n",
       "      <td>0</td>\n",
       "      <td>253875.639453</td>\n",
       "      <td>покупка жилья</td>\n",
       "    </tr>\n",
       "    <tr>\n",
       "      <th>1</th>\n",
       "      <td>1</td>\n",
       "      <td>-4024.803754</td>\n",
       "      <td>36</td>\n",
       "      <td>среднее</td>\n",
       "      <td>1</td>\n",
       "      <td>женат / замужем</td>\n",
       "      <td>0</td>\n",
       "      <td>F</td>\n",
       "      <td>сотрудник</td>\n",
       "      <td>0</td>\n",
       "      <td>112080.014102</td>\n",
       "      <td>приобретение автомобиля</td>\n",
       "    </tr>\n",
       "    <tr>\n",
       "      <th>2</th>\n",
       "      <td>0</td>\n",
       "      <td>-5623.422610</td>\n",
       "      <td>33</td>\n",
       "      <td>Среднее</td>\n",
       "      <td>1</td>\n",
       "      <td>женат / замужем</td>\n",
       "      <td>0</td>\n",
       "      <td>M</td>\n",
       "      <td>сотрудник</td>\n",
       "      <td>0</td>\n",
       "      <td>145885.952297</td>\n",
       "      <td>покупка жилья</td>\n",
       "    </tr>\n",
       "    <tr>\n",
       "      <th>3</th>\n",
       "      <td>3</td>\n",
       "      <td>-4124.747207</td>\n",
       "      <td>32</td>\n",
       "      <td>среднее</td>\n",
       "      <td>1</td>\n",
       "      <td>женат / замужем</td>\n",
       "      <td>0</td>\n",
       "      <td>M</td>\n",
       "      <td>сотрудник</td>\n",
       "      <td>0</td>\n",
       "      <td>267628.550329</td>\n",
       "      <td>дополнительное образование</td>\n",
       "    </tr>\n",
       "    <tr>\n",
       "      <th>4</th>\n",
       "      <td>0</td>\n",
       "      <td>340266.072047</td>\n",
       "      <td>53</td>\n",
       "      <td>среднее</td>\n",
       "      <td>1</td>\n",
       "      <td>гражданский брак</td>\n",
       "      <td>1</td>\n",
       "      <td>F</td>\n",
       "      <td>пенсионер</td>\n",
       "      <td>0</td>\n",
       "      <td>158616.077870</td>\n",
       "      <td>сыграть свадьбу</td>\n",
       "    </tr>\n",
       "    <tr>\n",
       "      <th>5</th>\n",
       "      <td>0</td>\n",
       "      <td>-926.185831</td>\n",
       "      <td>27</td>\n",
       "      <td>высшее</td>\n",
       "      <td>0</td>\n",
       "      <td>гражданский брак</td>\n",
       "      <td>1</td>\n",
       "      <td>M</td>\n",
       "      <td>компаньон</td>\n",
       "      <td>0</td>\n",
       "      <td>255763.565419</td>\n",
       "      <td>покупка жилья</td>\n",
       "    </tr>\n",
       "    <tr>\n",
       "      <th>6</th>\n",
       "      <td>0</td>\n",
       "      <td>-2879.202052</td>\n",
       "      <td>43</td>\n",
       "      <td>высшее</td>\n",
       "      <td>0</td>\n",
       "      <td>женат / замужем</td>\n",
       "      <td>0</td>\n",
       "      <td>F</td>\n",
       "      <td>компаньон</td>\n",
       "      <td>0</td>\n",
       "      <td>240525.971920</td>\n",
       "      <td>операции с жильем</td>\n",
       "    </tr>\n",
       "    <tr>\n",
       "      <th>7</th>\n",
       "      <td>0</td>\n",
       "      <td>-152.779569</td>\n",
       "      <td>50</td>\n",
       "      <td>СРЕДНЕЕ</td>\n",
       "      <td>1</td>\n",
       "      <td>женат / замужем</td>\n",
       "      <td>0</td>\n",
       "      <td>M</td>\n",
       "      <td>сотрудник</td>\n",
       "      <td>0</td>\n",
       "      <td>135823.934197</td>\n",
       "      <td>образование</td>\n",
       "    </tr>\n",
       "    <tr>\n",
       "      <th>8</th>\n",
       "      <td>2</td>\n",
       "      <td>-6929.865299</td>\n",
       "      <td>35</td>\n",
       "      <td>ВЫСШЕЕ</td>\n",
       "      <td>0</td>\n",
       "      <td>гражданский брак</td>\n",
       "      <td>1</td>\n",
       "      <td>F</td>\n",
       "      <td>сотрудник</td>\n",
       "      <td>0</td>\n",
       "      <td>95856.832424</td>\n",
       "      <td>на проведение свадьбы</td>\n",
       "    </tr>\n",
       "    <tr>\n",
       "      <th>9</th>\n",
       "      <td>0</td>\n",
       "      <td>-2188.756445</td>\n",
       "      <td>41</td>\n",
       "      <td>среднее</td>\n",
       "      <td>1</td>\n",
       "      <td>женат / замужем</td>\n",
       "      <td>0</td>\n",
       "      <td>M</td>\n",
       "      <td>сотрудник</td>\n",
       "      <td>0</td>\n",
       "      <td>144425.938277</td>\n",
       "      <td>покупка жилья для семьи</td>\n",
       "    </tr>\n",
       "    <tr>\n",
       "      <th>10</th>\n",
       "      <td>2</td>\n",
       "      <td>-4171.483647</td>\n",
       "      <td>36</td>\n",
       "      <td>высшее</td>\n",
       "      <td>0</td>\n",
       "      <td>женат / замужем</td>\n",
       "      <td>0</td>\n",
       "      <td>M</td>\n",
       "      <td>компаньон</td>\n",
       "      <td>0</td>\n",
       "      <td>113943.491460</td>\n",
       "      <td>покупка недвижимости</td>\n",
       "    </tr>\n",
       "    <tr>\n",
       "      <th>11</th>\n",
       "      <td>0</td>\n",
       "      <td>-792.701887</td>\n",
       "      <td>40</td>\n",
       "      <td>среднее</td>\n",
       "      <td>1</td>\n",
       "      <td>женат / замужем</td>\n",
       "      <td>0</td>\n",
       "      <td>F</td>\n",
       "      <td>сотрудник</td>\n",
       "      <td>0</td>\n",
       "      <td>77069.234271</td>\n",
       "      <td>покупка коммерческой недвижимости</td>\n",
       "    </tr>\n",
       "    <tr>\n",
       "      <th>12</th>\n",
       "      <td>0</td>\n",
       "      <td>NaN</td>\n",
       "      <td>65</td>\n",
       "      <td>среднее</td>\n",
       "      <td>1</td>\n",
       "      <td>гражданский брак</td>\n",
       "      <td>1</td>\n",
       "      <td>M</td>\n",
       "      <td>пенсионер</td>\n",
       "      <td>0</td>\n",
       "      <td>NaN</td>\n",
       "      <td>сыграть свадьбу</td>\n",
       "    </tr>\n",
       "    <tr>\n",
       "      <th>13</th>\n",
       "      <td>0</td>\n",
       "      <td>-1846.641941</td>\n",
       "      <td>54</td>\n",
       "      <td>неоконченное высшее</td>\n",
       "      <td>2</td>\n",
       "      <td>женат / замужем</td>\n",
       "      <td>0</td>\n",
       "      <td>F</td>\n",
       "      <td>сотрудник</td>\n",
       "      <td>0</td>\n",
       "      <td>130458.228857</td>\n",
       "      <td>приобретение автомобиля</td>\n",
       "    </tr>\n",
       "    <tr>\n",
       "      <th>14</th>\n",
       "      <td>0</td>\n",
       "      <td>-1844.956182</td>\n",
       "      <td>56</td>\n",
       "      <td>высшее</td>\n",
       "      <td>0</td>\n",
       "      <td>гражданский брак</td>\n",
       "      <td>1</td>\n",
       "      <td>F</td>\n",
       "      <td>компаньон</td>\n",
       "      <td>1</td>\n",
       "      <td>165127.911772</td>\n",
       "      <td>покупка жилой недвижимости</td>\n",
       "    </tr>\n",
       "    <tr>\n",
       "      <th>15</th>\n",
       "      <td>1</td>\n",
       "      <td>-972.364419</td>\n",
       "      <td>26</td>\n",
       "      <td>среднее</td>\n",
       "      <td>1</td>\n",
       "      <td>женат / замужем</td>\n",
       "      <td>0</td>\n",
       "      <td>F</td>\n",
       "      <td>сотрудник</td>\n",
       "      <td>0</td>\n",
       "      <td>116820.904450</td>\n",
       "      <td>строительство собственной недвижимости</td>\n",
       "    </tr>\n",
       "    <tr>\n",
       "      <th>16</th>\n",
       "      <td>0</td>\n",
       "      <td>-1719.934226</td>\n",
       "      <td>35</td>\n",
       "      <td>среднее</td>\n",
       "      <td>1</td>\n",
       "      <td>женат / замужем</td>\n",
       "      <td>0</td>\n",
       "      <td>F</td>\n",
       "      <td>сотрудник</td>\n",
       "      <td>0</td>\n",
       "      <td>289202.704229</td>\n",
       "      <td>недвижимость</td>\n",
       "    </tr>\n",
       "    <tr>\n",
       "      <th>17</th>\n",
       "      <td>0</td>\n",
       "      <td>-2369.999720</td>\n",
       "      <td>33</td>\n",
       "      <td>высшее</td>\n",
       "      <td>0</td>\n",
       "      <td>гражданский брак</td>\n",
       "      <td>1</td>\n",
       "      <td>M</td>\n",
       "      <td>сотрудник</td>\n",
       "      <td>0</td>\n",
       "      <td>90410.586745</td>\n",
       "      <td>строительство недвижимости</td>\n",
       "    </tr>\n",
       "    <tr>\n",
       "      <th>18</th>\n",
       "      <td>0</td>\n",
       "      <td>400281.136913</td>\n",
       "      <td>53</td>\n",
       "      <td>среднее</td>\n",
       "      <td>1</td>\n",
       "      <td>вдовец / вдова</td>\n",
       "      <td>2</td>\n",
       "      <td>F</td>\n",
       "      <td>пенсионер</td>\n",
       "      <td>0</td>\n",
       "      <td>56823.777243</td>\n",
       "      <td>на покупку подержанного автомобиля</td>\n",
       "    </tr>\n",
       "    <tr>\n",
       "      <th>19</th>\n",
       "      <td>0</td>\n",
       "      <td>-10038.818549</td>\n",
       "      <td>48</td>\n",
       "      <td>СРЕДНЕЕ</td>\n",
       "      <td>1</td>\n",
       "      <td>в разводе</td>\n",
       "      <td>3</td>\n",
       "      <td>F</td>\n",
       "      <td>сотрудник</td>\n",
       "      <td>0</td>\n",
       "      <td>242831.107982</td>\n",
       "      <td>на покупку своего автомобиля</td>\n",
       "    </tr>\n",
       "  </tbody>\n",
       "</table>\n",
       "</div>"
      ],
      "text/plain": [
       "    children  days_employed  dob_years            education  education_id  \\\n",
       "0          1   -8437.673028         42               высшее             0   \n",
       "1          1   -4024.803754         36              среднее             1   \n",
       "2          0   -5623.422610         33              Среднее             1   \n",
       "3          3   -4124.747207         32              среднее             1   \n",
       "4          0  340266.072047         53              среднее             1   \n",
       "5          0    -926.185831         27               высшее             0   \n",
       "6          0   -2879.202052         43               высшее             0   \n",
       "7          0    -152.779569         50              СРЕДНЕЕ             1   \n",
       "8          2   -6929.865299         35               ВЫСШЕЕ             0   \n",
       "9          0   -2188.756445         41              среднее             1   \n",
       "10         2   -4171.483647         36               высшее             0   \n",
       "11         0    -792.701887         40              среднее             1   \n",
       "12         0            NaN         65              среднее             1   \n",
       "13         0   -1846.641941         54  неоконченное высшее             2   \n",
       "14         0   -1844.956182         56               высшее             0   \n",
       "15         1    -972.364419         26              среднее             1   \n",
       "16         0   -1719.934226         35              среднее             1   \n",
       "17         0   -2369.999720         33               высшее             0   \n",
       "18         0  400281.136913         53              среднее             1   \n",
       "19         0  -10038.818549         48              СРЕДНЕЕ             1   \n",
       "\n",
       "       family_status  family_status_id gender income_type  debt  \\\n",
       "0    женат / замужем                 0      F   сотрудник     0   \n",
       "1    женат / замужем                 0      F   сотрудник     0   \n",
       "2    женат / замужем                 0      M   сотрудник     0   \n",
       "3    женат / замужем                 0      M   сотрудник     0   \n",
       "4   гражданский брак                 1      F   пенсионер     0   \n",
       "5   гражданский брак                 1      M   компаньон     0   \n",
       "6    женат / замужем                 0      F   компаньон     0   \n",
       "7    женат / замужем                 0      M   сотрудник     0   \n",
       "8   гражданский брак                 1      F   сотрудник     0   \n",
       "9    женат / замужем                 0      M   сотрудник     0   \n",
       "10   женат / замужем                 0      M   компаньон     0   \n",
       "11   женат / замужем                 0      F   сотрудник     0   \n",
       "12  гражданский брак                 1      M   пенсионер     0   \n",
       "13   женат / замужем                 0      F   сотрудник     0   \n",
       "14  гражданский брак                 1      F   компаньон     1   \n",
       "15   женат / замужем                 0      F   сотрудник     0   \n",
       "16   женат / замужем                 0      F   сотрудник     0   \n",
       "17  гражданский брак                 1      M   сотрудник     0   \n",
       "18    вдовец / вдова                 2      F   пенсионер     0   \n",
       "19         в разводе                 3      F   сотрудник     0   \n",
       "\n",
       "     total_income                                 purpose  \n",
       "0   253875.639453                           покупка жилья  \n",
       "1   112080.014102                 приобретение автомобиля  \n",
       "2   145885.952297                           покупка жилья  \n",
       "3   267628.550329              дополнительное образование  \n",
       "4   158616.077870                         сыграть свадьбу  \n",
       "5   255763.565419                           покупка жилья  \n",
       "6   240525.971920                       операции с жильем  \n",
       "7   135823.934197                             образование  \n",
       "8    95856.832424                   на проведение свадьбы  \n",
       "9   144425.938277                 покупка жилья для семьи  \n",
       "10  113943.491460                    покупка недвижимости  \n",
       "11   77069.234271       покупка коммерческой недвижимости  \n",
       "12            NaN                         сыграть свадьбу  \n",
       "13  130458.228857                 приобретение автомобиля  \n",
       "14  165127.911772              покупка жилой недвижимости  \n",
       "15  116820.904450  строительство собственной недвижимости  \n",
       "16  289202.704229                            недвижимость  \n",
       "17   90410.586745              строительство недвижимости  \n",
       "18   56823.777243      на покупку подержанного автомобиля  \n",
       "19  242831.107982            на покупку своего автомобиля  "
      ]
     },
     "execution_count": 2,
     "metadata": {},
     "output_type": "execute_result"
    }
   ],
   "source": [
    "data.head(20)"
   ]
  },
  {
   "cell_type": "markdown",
   "id": "0ff80622",
   "metadata": {
    "deletable": false,
    "editable": false,
    "id": "1c12e233"
   },
   "source": [
    "**Задание 3. Выведите основную информацию о датафрейме с помощью метода `info()`.**"
   ]
  },
  {
   "cell_type": "code",
   "execution_count": 3,
   "id": "67b6c0a6",
   "metadata": {
    "deletable": false,
    "id": "2b757bca",
    "outputId": "15376089-8dad-46c9-b520-c05248d43158"
   },
   "outputs": [
    {
     "name": "stdout",
     "output_type": "stream",
     "text": [
      "<class 'pandas.core.frame.DataFrame'>\n",
      "RangeIndex: 21525 entries, 0 to 21524\n",
      "Data columns (total 12 columns):\n",
      " #   Column            Non-Null Count  Dtype  \n",
      "---  ------            --------------  -----  \n",
      " 0   children          21525 non-null  int64  \n",
      " 1   days_employed     19351 non-null  float64\n",
      " 2   dob_years         21525 non-null  int64  \n",
      " 3   education         21525 non-null  object \n",
      " 4   education_id      21525 non-null  int64  \n",
      " 5   family_status     21525 non-null  object \n",
      " 6   family_status_id  21525 non-null  int64  \n",
      " 7   gender            21525 non-null  object \n",
      " 8   income_type       21525 non-null  object \n",
      " 9   debt              21525 non-null  int64  \n",
      " 10  total_income      19351 non-null  float64\n",
      " 11  purpose           21525 non-null  object \n",
      "dtypes: float64(2), int64(5), object(5)\n",
      "memory usage: 2.0+ MB\n"
     ]
    }
   ],
   "source": [
    "data.info()"
   ]
  },
  {
   "cell_type": "markdown",
   "id": "5236cc2d",
   "metadata": {
    "deletable": false,
    "editable": false,
    "id": "333ec665"
   },
   "source": [
    "## Предобработка данных"
   ]
  },
  {
   "cell_type": "markdown",
   "id": "02d75f16",
   "metadata": {
    "deletable": false,
    "editable": false,
    "id": "02d92d53"
   },
   "source": [
    "### Удаление пропусков"
   ]
  },
  {
   "cell_type": "markdown",
   "id": "4ba71123",
   "metadata": {
    "deletable": false,
    "editable": false,
    "id": "cd84967c"
   },
   "source": [
    "**Задание 4. Выведите количество пропущенных значений для каждого столбца. Используйте комбинацию двух методов.**"
   ]
  },
  {
   "cell_type": "code",
   "execution_count": 4,
   "id": "2d08de8b",
   "metadata": {
    "deletable": false,
    "id": "7f9b2309",
    "outputId": "81f4d817-781c-465c-ed15-91ce4446810d"
   },
   "outputs": [
    {
     "data": {
      "text/plain": [
       "children               0\n",
       "days_employed       2174\n",
       "dob_years              0\n",
       "education              0\n",
       "education_id           0\n",
       "family_status          0\n",
       "family_status_id       0\n",
       "gender                 0\n",
       "income_type            0\n",
       "debt                   0\n",
       "total_income        2174\n",
       "purpose                0\n",
       "dtype: int64"
      ]
     },
     "execution_count": 4,
     "metadata": {},
     "output_type": "execute_result"
    }
   ],
   "source": [
    "data.isna().sum()"
   ]
  },
  {
   "cell_type": "markdown",
   "id": "32b69dba",
   "metadata": {
    "deletable": false,
    "editable": false,
    "id": "db86e27b"
   },
   "source": [
    "**Задание 5. В двух столбцах есть пропущенные значения. Один из них — `days_employed`. Пропуски в этом столбце вы обработаете на следующем этапе. Другой столбец с пропущенными значениями — `total_income` — хранит данные о доходах. На сумму дохода сильнее всего влияет тип занятости, поэтому заполнить пропуски в этом столбце нужно медианным значением по каждому типу из столбца `income_type`. Например, у человека с типом занятости `сотрудник` пропуск в столбце `total_income` должен быть заполнен медианным доходом среди всех записей с тем же типом.**"
   ]
  },
  {
   "cell_type": "code",
   "execution_count": 5,
   "id": "0ba80198",
   "metadata": {
    "deletable": false,
    "id": "42006a93"
   },
   "outputs": [],
   "source": [
    "for t in data['income_type'].unique():\n",
    "    data.loc[(data['income_type'] == t) & (data['total_income'].isna()), 'total_income'] = \\\n",
    "    data.loc[(data['income_type'] == t), 'total_income'].median()"
   ]
  },
  {
   "cell_type": "markdown",
   "id": "e9c21030",
   "metadata": {
    "deletable": false,
    "editable": false,
    "id": "89da5ece"
   },
   "source": [
    "### Обработка аномальных значений"
   ]
  },
  {
   "cell_type": "markdown",
   "id": "ba78cb05",
   "metadata": {
    "deletable": false,
    "editable": false,
    "id": "57964554"
   },
   "source": [
    "**Задание 6. В данных могут встречаться артефакты (аномалии) — значения, которые не отражают действительность и появились по какой-то ошибке. таким артефактом будет отрицательное количество дней трудового стажа в столбце `days_employed`. Для реальных данных это нормально. Обработайте значения в этом столбце: замените все отрицательные значения положительными с помощью метода `abs()`.**"
   ]
  },
  {
   "cell_type": "code",
   "execution_count": 6,
   "id": "a3579ff8",
   "metadata": {
    "deletable": false,
    "id": "f6f055bf"
   },
   "outputs": [],
   "source": [
    "data['days_employed'] = data['days_employed'].abs()"
   ]
  },
  {
   "cell_type": "markdown",
   "id": "708856fc",
   "metadata": {
    "deletable": false,
    "editable": false,
    "id": "6107dd2f"
   },
   "source": [
    "**Задание 7. Для каждого типа занятости выведите медианное значение трудового стажа `days_employed` в днях.**"
   ]
  },
  {
   "cell_type": "code",
   "execution_count": 7,
   "id": "b2cf1b6a",
   "metadata": {
    "deletable": false,
    "id": "85a5faf6",
    "outputId": "801ef80e-522b-4668-f34e-565af7432bcf"
   },
   "outputs": [
    {
     "data": {
      "text/plain": [
       "income_type\n",
       "безработный        366413.652744\n",
       "в декрете            3296.759962\n",
       "госслужащий          2689.368353\n",
       "компаньон            1547.382223\n",
       "пенсионер          365213.306266\n",
       "предприниматель       520.848083\n",
       "сотрудник            1574.202821\n",
       "студент               578.751554\n",
       "Name: days_employed, dtype: float64"
      ]
     },
     "execution_count": 7,
     "metadata": {},
     "output_type": "execute_result"
    }
   ],
   "source": [
    "data.groupby('income_type')['days_employed'].agg('median')"
   ]
  },
  {
   "cell_type": "markdown",
   "id": "6ffc6718",
   "metadata": {
    "deletable": false,
    "editable": false,
    "id": "38d1a030"
   },
   "source": [
    "У двух типов (безработные и пенсионеры) получатся аномально большие значения. Исправить такие значения сложно, поэтому оставьте их как есть. Тем более этот столбец не понадобится вам для исследования."
   ]
  },
  {
   "cell_type": "markdown",
   "id": "c74ab191",
   "metadata": {
    "deletable": false,
    "editable": false,
    "id": "d8a9f147"
   },
   "source": [
    "**Задание 8. Выведите перечень уникальных значений столбца `children`.**"
   ]
  },
  {
   "cell_type": "code",
   "execution_count": 8,
   "id": "5348162a",
   "metadata": {
    "deletable": false,
    "id": "ef5056eb",
    "outputId": "6975b15c-7f95-4697-d16d-a0c79b657b03"
   },
   "outputs": [
    {
     "data": {
      "text/plain": [
       "array([ 1,  0,  3,  2, -1,  4, 20,  5])"
      ]
     },
     "execution_count": 8,
     "metadata": {},
     "output_type": "execute_result"
    }
   ],
   "source": [
    "data['children'].unique()"
   ]
  },
  {
   "cell_type": "markdown",
   "id": "55f918c2",
   "metadata": {
    "deletable": false,
    "editable": false,
    "id": "40b9ebf2"
   },
   "source": [
    "**Задание 9. В столбце `children` есть два аномальных значения. Удалите строки, в которых встречаются такие аномальные значения из датафрейма `data`.**"
   ]
  },
  {
   "cell_type": "code",
   "execution_count": 9,
   "id": "3ffbc579",
   "metadata": {
    "deletable": false,
    "id": "3ff9801d"
   },
   "outputs": [],
   "source": [
    "data = data[(data['children'] != -1) & (data['children'] != 20)]"
   ]
  },
  {
   "cell_type": "markdown",
   "id": "6162f3e0",
   "metadata": {
    "deletable": false,
    "editable": false,
    "id": "bbc4d0ce"
   },
   "source": [
    "**Задание 10. Ещё раз выведите перечень уникальных значений столбца `children`, чтобы убедиться, что артефакты удалены.**"
   ]
  },
  {
   "cell_type": "code",
   "execution_count": 10,
   "id": "18354951",
   "metadata": {
    "deletable": false,
    "id": "ad4fa8b7",
    "outputId": "b2097101-d49d-44d9-901b-32a65c9463d1"
   },
   "outputs": [
    {
     "data": {
      "text/plain": [
       "array([1, 0, 3, 2, 4, 5])"
      ]
     },
     "execution_count": 10,
     "metadata": {},
     "output_type": "execute_result"
    }
   ],
   "source": [
    "data['children'].unique()"
   ]
  },
  {
   "cell_type": "markdown",
   "id": "692eb690",
   "metadata": {
    "deletable": false,
    "editable": false,
    "id": "75440b63"
   },
   "source": [
    "### Удаление пропусков (продолжение)"
   ]
  },
  {
   "cell_type": "markdown",
   "id": "dbcac9bf",
   "metadata": {
    "deletable": false,
    "editable": false,
    "id": "f4ea573f"
   },
   "source": [
    "**Задание 11. Заполните пропуски в столбце `days_employed` медианными значениями по каждого типа занятости `income_type`.**"
   ]
  },
  {
   "cell_type": "code",
   "execution_count": 11,
   "id": "81c310ec",
   "metadata": {
    "deletable": false,
    "id": "af6b1a7e"
   },
   "outputs": [],
   "source": [
    "for t in data['income_type'].unique():\n",
    "    data.loc[(data['income_type'] == t) & (data['days_employed'].isna()), 'days_employed'] = \\\n",
    "    data.loc[(data['income_type'] == t), 'days_employed'].median()"
   ]
  },
  {
   "cell_type": "markdown",
   "id": "8dfbc1a1",
   "metadata": {
    "deletable": false,
    "editable": false,
    "id": "2753f40d"
   },
   "source": [
    "**Задание 12. Убедитесь, что все пропуски заполнены. Проверьте себя и ещё раз выведите количество пропущенных значений для каждого столбца с помощью двух методов.**"
   ]
  },
  {
   "cell_type": "code",
   "execution_count": 12,
   "id": "b20987c7",
   "metadata": {
    "deletable": false,
    "id": "55f78bc2",
    "outputId": "8da1e4e1-358e-4e87-98c9-f261bce0a7b2"
   },
   "outputs": [
    {
     "data": {
      "text/plain": [
       "children            0\n",
       "days_employed       0\n",
       "dob_years           0\n",
       "education           0\n",
       "education_id        0\n",
       "family_status       0\n",
       "family_status_id    0\n",
       "gender              0\n",
       "income_type         0\n",
       "debt                0\n",
       "total_income        0\n",
       "purpose             0\n",
       "dtype: int64"
      ]
     },
     "execution_count": 12,
     "metadata": {},
     "output_type": "execute_result"
    }
   ],
   "source": [
    "data.isna().sum()"
   ]
  },
  {
   "cell_type": "markdown",
   "id": "12413e25",
   "metadata": {
    "deletable": false,
    "editable": false,
    "id": "ddc81e43"
   },
   "source": [
    "### Изменение типов данных"
   ]
  },
  {
   "cell_type": "markdown",
   "id": "aebf1461",
   "metadata": {
    "deletable": false,
    "editable": false,
    "id": "42d19d24"
   },
   "source": [
    "**Задание 13. Замените вещественный тип данных в столбце `total_income` на целочисленный с помощью метода `astype()`.**"
   ]
  },
  {
   "cell_type": "code",
   "execution_count": 13,
   "id": "6427496f",
   "metadata": {
    "deletable": false,
    "id": "920b65ad"
   },
   "outputs": [],
   "source": [
    "data['total_income'] = data['total_income'].astype(int)"
   ]
  },
  {
   "cell_type": "markdown",
   "id": "d8518778",
   "metadata": {
    "deletable": false,
    "editable": false,
    "id": "80c420ba"
   },
   "source": [
    "### Обработка дубликатов"
   ]
  },
  {
   "cell_type": "markdown",
   "id": "b119404c",
   "metadata": {
    "deletable": false,
    "editable": false
   },
   "source": [
    "**Задание 14. Обработайте неявные дубликаты в столбце `education`. В этом столбце есть одни и те же значения, но записанные по-разному: с использованием заглавных и строчных букв. Приведите их к нижнему регистру. Проверьте остальные столбцы.**"
   ]
  },
  {
   "cell_type": "code",
   "execution_count": 14,
   "id": "ced0fe71",
   "metadata": {
    "deletable": false
   },
   "outputs": [],
   "source": [
    "data['education'] = data['education'].str.lower()"
   ]
  },
  {
   "cell_type": "markdown",
   "id": "10dcb129",
   "metadata": {
    "deletable": false,
    "editable": false,
    "id": "dc587695"
   },
   "source": [
    "**Задание 15. Выведите на экран количество строк-дубликатов в данных. Если такие строки присутствуют, удалите их.**"
   ]
  },
  {
   "cell_type": "code",
   "execution_count": 15,
   "id": "afa76b66",
   "metadata": {
    "deletable": false,
    "id": "3ee445e4",
    "outputId": "9684deba-1934-42d1-99e1-cda61740f822"
   },
   "outputs": [
    {
     "data": {
      "text/plain": [
       "71"
      ]
     },
     "execution_count": 15,
     "metadata": {},
     "output_type": "execute_result"
    }
   ],
   "source": [
    "data.duplicated().sum()"
   ]
  },
  {
   "cell_type": "code",
   "execution_count": 16,
   "id": "ea04affc",
   "metadata": {
    "deletable": false,
    "id": "8575fe05"
   },
   "outputs": [],
   "source": [
    "data = data.drop_duplicates()"
   ]
  },
  {
   "cell_type": "markdown",
   "id": "6218786b",
   "metadata": {
    "deletable": false,
    "editable": false,
    "id": "9904cf55"
   },
   "source": [
    "### Категоризация данных"
   ]
  },
  {
   "cell_type": "markdown",
   "id": "168aa30a",
   "metadata": {
    "deletable": false,
    "editable": false,
    "id": "72fcc8a2"
   },
   "source": [
    "**Задание 16. На основании диапазонов, указанных ниже, создайте в датафрейме `data` столбец `total_income_category` с категориями:**\n",
    "\n",
    "- 0–30000 — `'E'`;\n",
    "- 30001–50000 — `'D'`;\n",
    "- 50001–200000 — `'C'`;\n",
    "- 200001–1000000 — `'B'`;\n",
    "- 1000001 и выше — `'A'`.\n",
    "\n",
    "\n",
    "**Например, кредитополучателю с доходом 25000 нужно назначить категорию `'E'`, а клиенту, получающему 235000, — `'B'`. Используйте собственную функцию с именем `categorize_income()` и метод `apply()`.**"
   ]
  },
  {
   "cell_type": "code",
   "execution_count": 17,
   "id": "514a3147",
   "metadata": {
    "deletable": false,
    "id": "e1771346"
   },
   "outputs": [],
   "source": [
    "def categorize_income(income):\n",
    "    try:\n",
    "        if 0 <= income <= 30000:\n",
    "            return 'E'\n",
    "        elif 30001 <= income <= 50000:\n",
    "            return 'D'\n",
    "        elif 50001 <= income <= 200000:\n",
    "            return 'C'\n",
    "        elif 200001 <= income <= 1000000:\n",
    "            return 'B'\n",
    "        elif income >= 1000001:\n",
    "            return 'A'\n",
    "    except:\n",
    "        pass"
   ]
  },
  {
   "cell_type": "code",
   "execution_count": 18,
   "id": "a67d09a9",
   "metadata": {
    "deletable": false,
    "id": "d5f3586d"
   },
   "outputs": [],
   "source": [
    "data['total_income_category'] = data['total_income'].apply(categorize_income)"
   ]
  },
  {
   "cell_type": "markdown",
   "id": "b0746d27",
   "metadata": {
    "deletable": false,
    "editable": false,
    "id": "dde49b5c"
   },
   "source": [
    "**Задание 17. Выведите на экран перечень уникальных целей взятия кредита из столбца `purpose`.**"
   ]
  },
  {
   "cell_type": "code",
   "execution_count": 19,
   "id": "38e3dfdf",
   "metadata": {
    "deletable": false,
    "id": "f67ce9b3",
    "outputId": "673c12d9-7d7e-4ae0-9812-c622c89dd244"
   },
   "outputs": [
    {
     "data": {
      "text/plain": [
       "array(['покупка жилья', 'приобретение автомобиля',\n",
       "       'дополнительное образование', 'сыграть свадьбу',\n",
       "       'операции с жильем', 'образование', 'на проведение свадьбы',\n",
       "       'покупка жилья для семьи', 'покупка недвижимости',\n",
       "       'покупка коммерческой недвижимости', 'покупка жилой недвижимости',\n",
       "       'строительство собственной недвижимости', 'недвижимость',\n",
       "       'строительство недвижимости', 'на покупку подержанного автомобиля',\n",
       "       'на покупку своего автомобиля',\n",
       "       'операции с коммерческой недвижимостью',\n",
       "       'строительство жилой недвижимости', 'жилье',\n",
       "       'операции со своей недвижимостью', 'автомобили',\n",
       "       'заняться образованием', 'сделка с подержанным автомобилем',\n",
       "       'получение образования', 'автомобиль', 'свадьба',\n",
       "       'получение дополнительного образования', 'покупка своего жилья',\n",
       "       'операции с недвижимостью', 'получение высшего образования',\n",
       "       'свой автомобиль', 'сделка с автомобилем',\n",
       "       'профильное образование', 'высшее образование',\n",
       "       'покупка жилья для сдачи', 'на покупку автомобиля', 'ремонт жилью',\n",
       "       'заняться высшим образованием'], dtype=object)"
      ]
     },
     "execution_count": 19,
     "metadata": {},
     "output_type": "execute_result"
    }
   ],
   "source": [
    "data['purpose'].unique()"
   ]
  },
  {
   "cell_type": "markdown",
   "id": "9d0191c1",
   "metadata": {
    "deletable": false,
    "editable": false,
    "id": "85d0aef0"
   },
   "source": [
    "**Задание 18. Создайте функцию, которая на основании данных из столбца `purpose` сформирует новый столбец `purpose_category`, в который войдут следующие категории:**\n",
    "\n",
    "- `'операции с автомобилем'`,\n",
    "- `'операции с недвижимостью'`,\n",
    "- `'проведение свадьбы'`,\n",
    "- `'получение образования'`.\n",
    "\n",
    "**Например, если в столбце `purpose` находится подстрока `'на покупку автомобиля'`, то в столбце `purpose_category` должна появиться строка `'операции с автомобилем'`.**\n",
    "\n",
    "**Используйте собственную функцию с именем `categorize_purpose()` и метод `apply()`. Изучите данные в столбце `purpose` и определите, какие подстроки помогут вам правильно определить категорию.**"
   ]
  },
  {
   "cell_type": "code",
   "execution_count": 20,
   "id": "1c9ca051",
   "metadata": {
    "deletable": false,
    "id": "e149fab4"
   },
   "outputs": [],
   "source": [
    "def categorize_purpose(row):\n",
    "    try:\n",
    "        if 'автом' in row:\n",
    "            return 'операции с автомобилем'\n",
    "        elif 'жил' in row or 'недвиж' in row:\n",
    "            return 'операции с недвижимостью'\n",
    "        elif 'свад' in row:\n",
    "            return 'проведение свадьбы'\n",
    "        elif 'образов' in row:\n",
    "            return 'получение образования'\n",
    "    except:\n",
    "        return 'нет категории'"
   ]
  },
  {
   "cell_type": "code",
   "execution_count": 21,
   "id": "72b4bed5",
   "metadata": {
    "deletable": false,
    "id": "bf36e69b"
   },
   "outputs": [],
   "source": [
    "data['purpose_category'] = data['purpose'].apply(categorize_purpose)"
   ]
  },
  {
   "cell_type": "markdown",
   "id": "2e837ccc",
   "metadata": {
    "deletable": false,
    "editable": false,
    "id": "09b242bf"
   },
   "source": [
    "### Шаг 3. Исследуйте данные и ответьте на вопросы"
   ]
  },
  {
   "cell_type": "markdown",
   "id": "37358815",
   "metadata": {
    "deletable": false,
    "editable": false,
    "id": "c5d66278"
   },
   "source": [
    "#### 3.1 Есть ли зависимость между количеством детей и возвратом кредита в срок?"
   ]
  },
  {
   "cell_type": "code",
   "execution_count": 26,
   "id": "1c08643c",
   "metadata": {},
   "outputs": [],
   "source": [
    "# Функция для расчета процента от всего\n",
    "def calculate_percentages(group):\n",
    "    return (group.sum() / len(group)) * 100"
   ]
  },
  {
   "cell_type": "code",
   "execution_count": 32,
   "id": "d1bc3890",
   "metadata": {},
   "outputs": [
    {
     "data": {
      "text/plain": [
       "0    14091\n",
       "1     4808\n",
       "2     2052\n",
       "3      330\n",
       "4       41\n",
       "5        9\n",
       "Name: children, dtype: int64"
      ]
     },
     "execution_count": 32,
     "metadata": {},
     "output_type": "execute_result"
    }
   ],
   "source": [
    "# ТЕСТ ДЛЯ СЕБЯ: Проверим, сколько людей в каждой группе по количеству детей\n",
    "#data[\"children\"].value_counts()"
   ]
  },
  {
   "cell_type": "code",
   "execution_count": 37,
   "id": "a8ccb693",
   "metadata": {},
   "outputs": [
    {
     "data": {
      "text/plain": [
       "children  debt\n",
       "0         0       13028\n",
       "          1        1063\n",
       "1         0        4364\n",
       "          1         444\n",
       "2         0        1858\n",
       "          1         194\n",
       "3         0         303\n",
       "          1          27\n",
       "4         0          37\n",
       "          1           4\n",
       "5         0           9\n",
       "Name: debt, dtype: int64"
      ]
     },
     "execution_count": 37,
     "metadata": {},
     "output_type": "execute_result"
    }
   ],
   "source": [
    "# ТЕСТ ДЛЯ СЕБЯ: Сгруппируем теперь по возврату кредита (чтобы проверить суммы)\n",
    "#data.groupby(\"children\")[\"debt\"].value_counts()"
   ]
  },
  {
   "cell_type": "markdown",
   "id": "2c7c04ab",
   "metadata": {},
   "source": [
    "<div class=\"alert-success\"> \n",
    "<b>Комментарий ревьюера 👍</b>\n",
    "\n",
    "Отлично, что ты создаешь функцию, это значительным образом повышает наглядность представления результатов в данном случае.\n",
    "    \n",
    "Также отмечу, что существует возможность немного упростить код: return group.mean() * 100"
   ]
  },
  {
   "cell_type": "code",
   "execution_count": 43,
   "id": "281ddec7",
   "metadata": {
    "deletable": false,
    "id": "2cacfc4a"
   },
   "outputs": [
    {
     "data": {
      "text/html": [
       "<div>\n",
       "<style scoped>\n",
       "    .dataframe tbody tr th:only-of-type {\n",
       "        vertical-align: middle;\n",
       "    }\n",
       "\n",
       "    .dataframe tbody tr th {\n",
       "        vertical-align: top;\n",
       "    }\n",
       "\n",
       "    .dataframe thead th {\n",
       "        text-align: right;\n",
       "    }\n",
       "</style>\n",
       "<table border=\"1\" class=\"dataframe\">\n",
       "  <thead>\n",
       "    <tr style=\"text-align: right;\">\n",
       "      <th></th>\n",
       "      <th>sum</th>\n",
       "      <th>count</th>\n",
       "      <th>calculate_percentages</th>\n",
       "    </tr>\n",
       "    <tr>\n",
       "      <th>children</th>\n",
       "      <th></th>\n",
       "      <th></th>\n",
       "      <th></th>\n",
       "    </tr>\n",
       "  </thead>\n",
       "  <tbody>\n",
       "    <tr>\n",
       "      <th>0</th>\n",
       "      <td>1063</td>\n",
       "      <td>14091</td>\n",
       "      <td>7.544</td>\n",
       "    </tr>\n",
       "    <tr>\n",
       "      <th>1</th>\n",
       "      <td>444</td>\n",
       "      <td>4808</td>\n",
       "      <td>9.235</td>\n",
       "    </tr>\n",
       "    <tr>\n",
       "      <th>2</th>\n",
       "      <td>194</td>\n",
       "      <td>2052</td>\n",
       "      <td>9.454</td>\n",
       "    </tr>\n",
       "    <tr>\n",
       "      <th>3</th>\n",
       "      <td>27</td>\n",
       "      <td>330</td>\n",
       "      <td>8.182</td>\n",
       "    </tr>\n",
       "    <tr>\n",
       "      <th>4</th>\n",
       "      <td>4</td>\n",
       "      <td>41</td>\n",
       "      <td>9.756</td>\n",
       "    </tr>\n",
       "    <tr>\n",
       "      <th>5</th>\n",
       "      <td>0</td>\n",
       "      <td>9</td>\n",
       "      <td>0.000</td>\n",
       "    </tr>\n",
       "  </tbody>\n",
       "</table>\n",
       "</div>"
      ],
      "text/plain": [
       "           sum  count  calculate_percentages\n",
       "children                                    \n",
       "0         1063  14091                  7.544\n",
       "1          444   4808                  9.235\n",
       "2          194   2052                  9.454\n",
       "3           27    330                  8.182\n",
       "4            4     41                  9.756\n",
       "5            0      9                  0.000"
      ]
     },
     "execution_count": 43,
     "metadata": {},
     "output_type": "execute_result"
    }
   ],
   "source": [
    "# Группируем по детям и возврату кредита в срок\n",
    "result = data.groupby('children')['debt'].agg(['sum', 'count', calculate_percentages])\n",
    "result[\"calculate_percentages\"] = result[\"calculate_percentages\"].round(3)\n",
    "result"
   ]
  },
  {
   "cell_type": "markdown",
   "id": "ac7823d6",
   "metadata": {
    "deletable": false,
    "id": "3a6b99ec"
   },
   "source": [
    "**Вывод:** В данной таблице модно выделить несколько интересных условий возврата кредита с срок в зависимости от количества детей:\n",
    " * Люди, у которых 5 детей, всегда выплачивали кредит в срок, но и их было небольшое количество - всего 9 случаев;\n",
    " * Люди с 4-мя детьми чаще всего не возвращали кредит в срок, но и их количество было небольшое - 41 случай;\n",
    " * Больше всего брали кредит люди без детей\n",
    " \n",
    " \n",
    "Если говорить о тенеденциях и зависимостях, то люди с количеством детей от 1-2 чаще всего не выплачивают кредит в срок"
   ]
  },
  {
   "cell_type": "markdown",
   "id": "826ccc41",
   "metadata": {},
   "source": [
    "<div class=\"alert-danger\"> \n",
    "<b>Комментарий ревьюера ❌</b> \n",
    "    \n",
    "Код верен. Однако, тут стоит обратить внимание одну деталь, связанную с размерами выборок. Для малых выборок полученные процентные соотношения редко приводят к релевантным выводам. Попробуй вывести не только процент, но и количества клиентов для каждой категории (по числу детей). В связи с этим, измени вывод - ведь странно бы было предполагать, что выдача кредитов людям с 5 и более детьми всегда заканчивается возвращением долга."
   ]
  },
  {
   "cell_type": "markdown",
   "id": "1c86a9f9",
   "metadata": {},
   "source": [
    "<div class=\"alert-success\"> \n",
    "<b>Комментарий ревьюера 👍 Вторая итерация </b>\n",
    "\n",
    "Теперь все верно! Полностью согласен с выводом."
   ]
  },
  {
   "cell_type": "markdown",
   "id": "78328972",
   "metadata": {
    "deletable": false,
    "editable": false,
    "id": "97be82ca"
   },
   "source": [
    "#### 3.2 Есть ли зависимость между семейным положением и возвратом кредита в срок?"
   ]
  },
  {
   "cell_type": "code",
   "execution_count": 39,
   "id": "10b87748",
   "metadata": {
    "deletable": false,
    "id": "dc3f7ee8"
   },
   "outputs": [
    {
     "data": {
      "text/html": [
       "<div>\n",
       "<style scoped>\n",
       "    .dataframe tbody tr th:only-of-type {\n",
       "        vertical-align: middle;\n",
       "    }\n",
       "\n",
       "    .dataframe tbody tr th {\n",
       "        vertical-align: top;\n",
       "    }\n",
       "\n",
       "    .dataframe thead th {\n",
       "        text-align: right;\n",
       "    }\n",
       "</style>\n",
       "<table border=\"1\" class=\"dataframe\">\n",
       "  <thead>\n",
       "    <tr style=\"text-align: right;\">\n",
       "      <th></th>\n",
       "      <th>sum</th>\n",
       "      <th>count</th>\n",
       "      <th>calculate_percentages</th>\n",
       "    </tr>\n",
       "    <tr>\n",
       "      <th>family_status</th>\n",
       "      <th></th>\n",
       "      <th></th>\n",
       "      <th></th>\n",
       "    </tr>\n",
       "  </thead>\n",
       "  <tbody>\n",
       "    <tr>\n",
       "      <th>Не женат / не замужем</th>\n",
       "      <td>273</td>\n",
       "      <td>2796</td>\n",
       "      <td>9.76</td>\n",
       "    </tr>\n",
       "    <tr>\n",
       "      <th>в разводе</th>\n",
       "      <td>84</td>\n",
       "      <td>1189</td>\n",
       "      <td>7.06</td>\n",
       "    </tr>\n",
       "    <tr>\n",
       "      <th>вдовец / вдова</th>\n",
       "      <td>63</td>\n",
       "      <td>951</td>\n",
       "      <td>6.62</td>\n",
       "    </tr>\n",
       "    <tr>\n",
       "      <th>гражданский брак</th>\n",
       "      <td>385</td>\n",
       "      <td>4134</td>\n",
       "      <td>9.31</td>\n",
       "    </tr>\n",
       "    <tr>\n",
       "      <th>женат / замужем</th>\n",
       "      <td>927</td>\n",
       "      <td>12261</td>\n",
       "      <td>7.56</td>\n",
       "    </tr>\n",
       "  </tbody>\n",
       "</table>\n",
       "</div>"
      ],
      "text/plain": [
       "                       sum  count  calculate_percentages\n",
       "family_status                                           \n",
       "Не женат / не замужем  273   2796                   9.76\n",
       "в разводе               84   1189                   7.06\n",
       "вдовец / вдова          63    951                   6.62\n",
       "гражданский брак       385   4134                   9.31\n",
       "женат / замужем        927  12261                   7.56"
      ]
     },
     "execution_count": 39,
     "metadata": {},
     "output_type": "execute_result"
    }
   ],
   "source": [
    "# Группируем по семейному статусу и возврату кредита в срок\n",
    "result = data.groupby('family_status')['debt'].agg(['sum', 'count', calculate_percentages])\n",
    "result[\"calculate_percentages\"] = result[\"calculate_percentages\"].round(2)\n",
    "result"
   ]
  },
  {
   "cell_type": "markdown",
   "id": "51241a82",
   "metadata": {
    "deletable": false,
    "id": "1cef7837"
   },
   "source": [
    "**Вывод:** Люди не женатые/ не замужные и люди в гражданском браке чаще всего не возвращают кредит в срок"
   ]
  },
  {
   "cell_type": "markdown",
   "id": "3cce0983",
   "metadata": {},
   "source": [
    "<div class=\"alert-success\"> \n",
    "<b>Комментарий ревьюера 👍</b>\n",
    "\n",
    "Здесь все верно!\n",
    "\n",
    "Но я также, как и к прошлому вопросу (и последующим) советую расширять таблицу представления данных - выводить туда не только процент, но и число клиентов.\n",
    "\n",
    "Также, (это уже опционально) можно использовать простейшие методы визуализации для большей наглядности выводов - например, столбчатые диаграммы через matplotlib.\n",
    "    \n",
    "https://devpractice.ru/matplotlib-lesson-4-3-bar-pie/"
   ]
  },
  {
   "cell_type": "markdown",
   "id": "1cb79b5a",
   "metadata": {
    "deletable": false,
    "editable": false,
    "id": "1e8b2fca"
   },
   "source": [
    "#### 3.3 Есть ли зависимость между уровнем дохода и возвратом кредита в срок?"
   ]
  },
  {
   "cell_type": "code",
   "execution_count": 40,
   "id": "26e13744",
   "metadata": {
    "deletable": false,
    "id": "cd7e3720"
   },
   "outputs": [
    {
     "data": {
      "text/html": [
       "<div>\n",
       "<style scoped>\n",
       "    .dataframe tbody tr th:only-of-type {\n",
       "        vertical-align: middle;\n",
       "    }\n",
       "\n",
       "    .dataframe tbody tr th {\n",
       "        vertical-align: top;\n",
       "    }\n",
       "\n",
       "    .dataframe thead th {\n",
       "        text-align: right;\n",
       "    }\n",
       "</style>\n",
       "<table border=\"1\" class=\"dataframe\">\n",
       "  <thead>\n",
       "    <tr style=\"text-align: right;\">\n",
       "      <th></th>\n",
       "      <th>sum</th>\n",
       "      <th>count</th>\n",
       "      <th>calculate_percentages</th>\n",
       "    </tr>\n",
       "    <tr>\n",
       "      <th>total_income_category</th>\n",
       "      <th></th>\n",
       "      <th></th>\n",
       "      <th></th>\n",
       "    </tr>\n",
       "  </thead>\n",
       "  <tbody>\n",
       "    <tr>\n",
       "      <th>A</th>\n",
       "      <td>2</td>\n",
       "      <td>25</td>\n",
       "      <td>8.000</td>\n",
       "    </tr>\n",
       "    <tr>\n",
       "      <th>B</th>\n",
       "      <td>354</td>\n",
       "      <td>5014</td>\n",
       "      <td>7.060</td>\n",
       "    </tr>\n",
       "    <tr>\n",
       "      <th>C</th>\n",
       "      <td>1353</td>\n",
       "      <td>15921</td>\n",
       "      <td>8.498</td>\n",
       "    </tr>\n",
       "    <tr>\n",
       "      <th>D</th>\n",
       "      <td>21</td>\n",
       "      <td>349</td>\n",
       "      <td>6.017</td>\n",
       "    </tr>\n",
       "    <tr>\n",
       "      <th>E</th>\n",
       "      <td>2</td>\n",
       "      <td>22</td>\n",
       "      <td>9.091</td>\n",
       "    </tr>\n",
       "  </tbody>\n",
       "</table>\n",
       "</div>"
      ],
      "text/plain": [
       "                        sum  count  calculate_percentages\n",
       "total_income_category                                    \n",
       "A                         2     25                  8.000\n",
       "B                       354   5014                  7.060\n",
       "C                      1353  15921                  8.498\n",
       "D                        21    349                  6.017\n",
       "E                         2     22                  9.091"
      ]
     },
     "execution_count": 40,
     "metadata": {},
     "output_type": "execute_result"
    }
   ],
   "source": [
    "# Группируем по уровню дохода и возврату кредита в срок\n",
    "result = data.groupby('total_income_category')['debt'].agg(['sum', 'count', calculate_percentages])\n",
    "result[\"calculate_percentages\"] = result[\"calculate_percentages\"].round(3)\n",
    "result"
   ]
  },
  {
   "cell_type": "markdown",
   "id": "c8217c30",
   "metadata": {
    "deletable": false,
    "id": "e8593def"
   },
   "source": [
    "**Вывод:** Люди с категорией E и C реже всего возвращают кредит в срок.\n",
    "* Чаще всего кредиты берут люди с катеогрией дохода C и B, реже - люди с категорией дохода A и E\n",
    "\n",
    "Общая тенденция - на большом объеме данных видно, что кредиты берут люди с катеогрией дохода C и они, потенциально, чаще всего не возарщают кредиты в срок"
   ]
  },
  {
   "cell_type": "markdown",
   "id": "16f030f5",
   "metadata": {},
   "source": [
    "<div class=\"alert-warning\"> \n",
    "<b>Комментарий ревьюера 💡 </b> \n",
    "    \n",
    "Здесь также все верно, но старайся в выводах ко пунктам описывать все категории и делать заключение об общей тенденции."
   ]
  },
  {
   "cell_type": "markdown",
   "id": "0b4fda35",
   "metadata": {},
   "source": [
    "<div class=\"alert-success\"> \n",
    "<b>Комментарий ревьюера 👍 Вторая итерация </b>\n",
    "\n",
    "Отлично, что ты изменил код для сводных таблиц и выводы для большинства вопросов! В следующих проектах для схожих действий (выведение определенных значений из общей таблице в нужном формате) можешь пользоваться созданием функций."
   ]
  },
  {
   "cell_type": "markdown",
   "id": "09b6caf8",
   "metadata": {
    "deletable": false,
    "editable": false,
    "id": "99ecbd1f"
   },
   "source": [
    "#### 3.4 Как разные цели кредита влияют на его возврат в срок?"
   ]
  },
  {
   "cell_type": "code",
   "execution_count": 41,
   "id": "9cae5e26",
   "metadata": {
    "deletable": false,
    "id": "2b687290"
   },
   "outputs": [
    {
     "data": {
      "text/plain": [
       "purpose_category\n",
       "операции с автомобилем      9.35\n",
       "операции с недвижимостью    7.26\n",
       "получение образования       9.25\n",
       "проведение свадьбы          7.91\n",
       "Name: debt, dtype: float64"
      ]
     },
     "execution_count": 41,
     "metadata": {},
     "output_type": "execute_result"
    }
   ],
   "source": [
    "# Группируем по целям и возврату кредита в срок\n",
    "data.groupby('purpose_category')['debt'].apply(calculate_percentages).round(2)"
   ]
  },
  {
   "cell_type": "markdown",
   "id": "baae71e5",
   "metadata": {
    "deletable": false,
    "id": "b4bb2ce6"
   },
   "source": [
    "**Вывод:** Больше всего не возращают в срок кредиты, взятые на операции с автомобилем и кредиты на получения образования"
   ]
  },
  {
   "cell_type": "markdown",
   "id": "b016bf72",
   "metadata": {},
   "source": [
    "<div class=\"alert-success\"> \n",
    "<b>Комментарий ревьюера 👍</b>\n",
    "\n",
    "Согласен!"
   ]
  },
  {
   "cell_type": "markdown",
   "id": "ff182abe",
   "metadata": {
    "deletable": false,
    "editable": false,
    "id": "09c3ac4c"
   },
   "source": [
    "#### 3.5 Приведите возможные причины появления пропусков в исходных данных."
   ]
  },
  {
   "cell_type": "markdown",
   "id": "3f10b650",
   "metadata": {
    "deletable": false,
    "id": "9da2ceda"
   },
   "source": [
    "*Ответ:* если объединяли данные из разных датафреймов, то возможны пропуски из-за остуствия данных в каком-то датасете, не соотвествие количества строк и тд. Возможны также ошибки человека, что он пропустил какие-то строки при заполнении. Возможны не человечкие факторы, ошибки при объединении датафреймов со стороны вычислительных средств"
   ]
  },
  {
   "cell_type": "markdown",
   "id": "adcaf149",
   "metadata": {},
   "source": [
    "<div class=\"alert-success\"> \n",
    "<b>Комментарий ревьюера 👍</b>\n",
    "\n",
    "Правильные рассуждения. Хорошо, что ты не забываешь про частую причину пропусков, которая нередко встречается в реальной жизни - иногда люди просто сами не указывают информацию о себе, если считают ее конфиденциальной и такое позволяет форма."
   ]
  },
  {
   "cell_type": "markdown",
   "id": "48c9c05d",
   "metadata": {
    "deletable": false,
    "editable": false,
    "id": "7b0487d6"
   },
   "source": [
    "#### 3.6 Объясните, почему заполнить пропуски медианным значением — лучшее решение для количественных переменных."
   ]
  },
  {
   "cell_type": "markdown",
   "id": "0233dbc3",
   "metadata": {
    "deletable": false,
    "id": "7ecf2b8e"
   },
   "source": [
    "*Ответ:* медиана более устойчива к выбросам, чем среднее. При медиане мы берем конкретно центральные значения, которые повзоляют отсеить у нас потенциальные аномальные значения."
   ]
  },
  {
   "cell_type": "markdown",
   "id": "2138ec6c",
   "metadata": {},
   "source": [
    "<div class=\"alert-success\"> \n",
    "<b>Комментарий ревьюера 👍</b>\n",
    "\n",
    "Верно, медиана в таком случае предпочтительнее и не допускает искажений. При расчете большинства мер благосостояния медиана используется чаще всего. То же самое - с категориальными признаками."
   ]
  },
  {
   "cell_type": "markdown",
   "id": "ec679791",
   "metadata": {
    "deletable": false,
    "editable": false,
    "id": "6db5255a"
   },
   "source": [
    "### Шаг 4: общий вывод."
   ]
  },
  {
   "cell_type": "markdown",
   "id": "1b45df4a",
   "metadata": {
    "deletable": false,
    "id": "bad65432"
   },
   "source": [
    "Чаще всего кредиты не выплачивают в срок люди, с низким средним доходом (E), люди имеющие детей, люди не женатые/ не замужные или в гарждансом браке. И основаня цель получения кредти - опреации с автомобилем и получение образования.\n",
    "\n",
    "Кредиты стоит выдавать людям у которых нет детей, человек вдовец / вдова. Эти группы людей чаще всего возвращали кредит в срок на основе данных представленных в датафрейме. Кредиты можно выдавать на операции с недвижимостью или на проведение свадьбы."
   ]
  },
  {
   "cell_type": "markdown",
   "id": "1c8363fb",
   "metadata": {},
   "source": [
    "<div class=\"alert-warning\"> \n",
    "<b>Комментарий ревьюера 💡</b> \n",
    "\n",
    "Несмотря на краткость, в общем выводе отражены все основные моменты. Однако, посоветую писать вывод большим образом в качестве рекомендации, которую мы предложим заказчику, описывая группы насепления, выдача кредитов которым наиболее предпочтительна и не предполагает излишнего риска."
   ]
  },
  {
   "cell_type": "markdown",
   "id": "cee201ed",
   "metadata": {},
   "source": [
    "<div class=\"alert-success\"> \n",
    "<b>Комментарий ревьюера / Вторая итерация</b>\n",
    "\n",
    "👍"
   ]
  },
  {
   "cell_type": "markdown",
   "id": "68ae5b5f",
   "metadata": {},
   "source": [
    "<div class=> \n",
    "<b>Общий комментарий ревьюера </b> \n",
    "    \n",
    "Отличный проект, тобою проделана большая работа, ты молодец!\n",
    "\n",
    "Значительных ошибок я не встретил, однако оставил один красный комментарий - исправь его, пожалуйста.\n",
    "\n",
    "Также, есть некоторое количество желтых комментариев. Думаю, они будут полезны и ты также что-либо поменяешь, потому что это сделает твой проект лучше. Главным образом, старайся писать более развернутые выводы, как минимум - общий по проекту.\n",
    "\n",
    "Буду ждать доработок."
   ]
  },
  {
   "cell_type": "markdown",
   "id": "1dcd6485",
   "metadata": {},
   "source": [
    "<div class=\"alert-success\"> \n",
    "<b>Общий комментарий ревьюера 👍 Вторая итерация</b>\n",
    "\n",
    "Все отмеченные недочеты качественно исправлены, код изменен - в сответствие с новой информацией сделаны релевантные выводы.\n",
    "    \n",
    "Могу принять твой проект! Удачи в дальнейшей учебе : )"
   ]
  }
 ],
 "metadata": {
  "ExecuteTimeLog": [
   {
    "duration": 777,
    "start_time": "2024-09-25T09:55:51.695Z"
   },
   {
    "duration": 25,
    "start_time": "2024-09-25T09:55:52.473Z"
   },
   {
    "duration": 16,
    "start_time": "2024-09-25T09:55:52.499Z"
   },
   {
    "duration": 22,
    "start_time": "2024-09-25T09:55:52.516Z"
   },
   {
    "duration": 51,
    "start_time": "2024-09-25T09:55:52.540Z"
   },
   {
    "duration": 3,
    "start_time": "2024-09-25T09:55:52.593Z"
   },
   {
    "duration": 9,
    "start_time": "2024-09-25T09:55:52.598Z"
   },
   {
    "duration": 7,
    "start_time": "2024-09-25T09:55:52.608Z"
   },
   {
    "duration": 9,
    "start_time": "2024-09-25T09:55:52.616Z"
   },
   {
    "duration": 27,
    "start_time": "2024-09-25T09:55:52.626Z"
   },
   {
    "duration": 67,
    "start_time": "2024-09-25T09:55:52.655Z"
   },
   {
    "duration": 10,
    "start_time": "2024-09-25T09:55:52.724Z"
   },
   {
    "duration": 7,
    "start_time": "2024-09-25T09:55:52.736Z"
   },
   {
    "duration": 18,
    "start_time": "2024-09-25T09:55:52.746Z"
   },
   {
    "duration": 37,
    "start_time": "2024-09-25T09:55:52.765Z"
   },
   {
    "duration": 16,
    "start_time": "2024-09-25T09:55:52.804Z"
   },
   {
    "duration": 74,
    "start_time": "2024-09-25T09:55:52.822Z"
   },
   {
    "duration": 21,
    "start_time": "2024-09-25T09:55:52.897Z"
   },
   {
    "duration": 7,
    "start_time": "2024-09-25T09:55:52.920Z"
   },
   {
    "duration": 7,
    "start_time": "2024-09-25T09:55:52.928Z"
   },
   {
    "duration": 14,
    "start_time": "2024-09-25T09:55:52.937Z"
   },
   {
    "duration": 6,
    "start_time": "2024-09-25T09:55:52.953Z"
   },
   {
    "duration": 17,
    "start_time": "2024-09-25T09:55:52.960Z"
   },
   {
    "duration": 14,
    "start_time": "2024-09-25T09:55:52.979Z"
   },
   {
    "duration": 10,
    "start_time": "2024-09-25T09:55:52.994Z"
   },
   {
    "duration": 7,
    "start_time": "2024-09-25T11:05:08.222Z"
   },
   {
    "duration": 3,
    "start_time": "2024-09-25T11:05:42.545Z"
   },
   {
    "duration": 4,
    "start_time": "2024-09-25T11:06:34.141Z"
   },
   {
    "duration": 3,
    "start_time": "2024-09-25T11:06:43.520Z"
   },
   {
    "duration": 4,
    "start_time": "2024-09-25T11:08:26.211Z"
   },
   {
    "duration": 9,
    "start_time": "2024-09-25T11:08:37.793Z"
   },
   {
    "duration": 8,
    "start_time": "2024-09-25T11:09:05.990Z"
   },
   {
    "duration": 14,
    "start_time": "2024-09-25T11:10:01.328Z"
   },
   {
    "duration": 8,
    "start_time": "2024-09-25T11:13:10.122Z"
   },
   {
    "duration": 19,
    "start_time": "2024-09-25T11:36:09.269Z"
   },
   {
    "duration": 74,
    "start_time": "2024-09-25T11:37:03.705Z"
   },
   {
    "duration": 11,
    "start_time": "2024-09-25T11:37:10.693Z"
   },
   {
    "duration": 7,
    "start_time": "2024-09-25T11:37:25.341Z"
   },
   {
    "duration": 10,
    "start_time": "2024-09-25T11:38:12.843Z"
   },
   {
    "duration": 21,
    "start_time": "2024-09-25T11:38:25.870Z"
   },
   {
    "duration": 17,
    "start_time": "2024-09-25T11:40:58.034Z"
   },
   {
    "duration": 52,
    "start_time": "2024-09-25T11:41:19.338Z"
   },
   {
    "duration": 11,
    "start_time": "2024-09-25T11:41:26.485Z"
   },
   {
    "duration": 9,
    "start_time": "2024-09-25T11:42:05.593Z"
   },
   {
    "duration": 9,
    "start_time": "2024-09-25T11:42:50.273Z"
   },
   {
    "duration": 8,
    "start_time": "2024-09-25T11:50:23.176Z"
   },
   {
    "duration": 11,
    "start_time": "2024-09-25T11:54:15.445Z"
   },
   {
    "duration": 710,
    "start_time": "2024-09-25T14:57:43.174Z"
   },
   {
    "duration": 22,
    "start_time": "2024-09-25T14:57:43.886Z"
   },
   {
    "duration": 15,
    "start_time": "2024-09-25T14:57:43.909Z"
   },
   {
    "duration": 10,
    "start_time": "2024-09-25T14:57:43.926Z"
   },
   {
    "duration": 49,
    "start_time": "2024-09-25T14:57:43.938Z"
   },
   {
    "duration": 3,
    "start_time": "2024-09-25T14:57:43.989Z"
   },
   {
    "duration": 9,
    "start_time": "2024-09-25T14:57:43.994Z"
   },
   {
    "duration": 4,
    "start_time": "2024-09-25T14:57:44.005Z"
   },
   {
    "duration": 8,
    "start_time": "2024-09-25T14:57:44.010Z"
   },
   {
    "duration": 8,
    "start_time": "2024-09-25T14:57:44.019Z"
   },
   {
    "duration": 65,
    "start_time": "2024-09-25T14:57:44.028Z"
   },
   {
    "duration": 10,
    "start_time": "2024-09-25T14:57:44.095Z"
   },
   {
    "duration": 5,
    "start_time": "2024-09-25T14:57:44.106Z"
   },
   {
    "duration": 12,
    "start_time": "2024-09-25T14:57:44.114Z"
   },
   {
    "duration": 22,
    "start_time": "2024-09-25T14:57:44.127Z"
   },
   {
    "duration": 38,
    "start_time": "2024-09-25T14:57:44.150Z"
   },
   {
    "duration": 4,
    "start_time": "2024-09-25T14:57:44.189Z"
   },
   {
    "duration": 12,
    "start_time": "2024-09-25T14:57:44.194Z"
   },
   {
    "duration": 6,
    "start_time": "2024-09-25T14:57:44.207Z"
   },
   {
    "duration": 5,
    "start_time": "2024-09-25T14:57:44.214Z"
   },
   {
    "duration": 16,
    "start_time": "2024-09-25T14:57:44.220Z"
   },
   {
    "duration": 7,
    "start_time": "2024-09-25T14:57:44.238Z"
   },
   {
    "duration": 65,
    "start_time": "2024-09-25T14:57:44.247Z"
   },
   {
    "duration": 0,
    "start_time": "2024-09-25T14:57:44.314Z"
   },
   {
    "duration": 0,
    "start_time": "2024-09-25T14:57:44.316Z"
   },
   {
    "duration": 3,
    "start_time": "2024-09-25T15:03:59.024Z"
   },
   {
    "duration": 282,
    "start_time": "2024-09-25T15:04:00.281Z"
   },
   {
    "duration": 8,
    "start_time": "2024-09-25T15:04:32.929Z"
   },
   {
    "duration": 2,
    "start_time": "2024-09-25T15:04:58.811Z"
   },
   {
    "duration": 228,
    "start_time": "2024-09-25T15:05:01.426Z"
   },
   {
    "duration": 3,
    "start_time": "2024-09-25T15:05:35.961Z"
   },
   {
    "duration": 9,
    "start_time": "2024-09-25T15:05:37.141Z"
   },
   {
    "duration": 3,
    "start_time": "2024-09-25T15:07:24.791Z"
   },
   {
    "duration": 9,
    "start_time": "2024-09-25T15:07:25.804Z"
   },
   {
    "duration": 9,
    "start_time": "2024-09-25T15:10:12.637Z"
   },
   {
    "duration": 53,
    "start_time": "2024-09-25T15:11:13.868Z"
   },
   {
    "duration": 9,
    "start_time": "2024-09-25T15:11:20.944Z"
   },
   {
    "duration": 9,
    "start_time": "2024-09-25T15:16:52.973Z"
   },
   {
    "duration": 76,
    "start_time": "2024-09-25T15:21:04.036Z"
   },
   {
    "duration": 15,
    "start_time": "2024-09-25T15:21:04.114Z"
   },
   {
    "duration": 28,
    "start_time": "2024-09-25T15:21:04.131Z"
   },
   {
    "duration": 15,
    "start_time": "2024-09-25T15:21:04.161Z"
   },
   {
    "duration": 36,
    "start_time": "2024-09-25T15:21:04.178Z"
   },
   {
    "duration": 4,
    "start_time": "2024-09-25T15:21:04.215Z"
   },
   {
    "duration": 14,
    "start_time": "2024-09-25T15:21:04.220Z"
   },
   {
    "duration": 4,
    "start_time": "2024-09-25T15:21:04.236Z"
   },
   {
    "duration": 5,
    "start_time": "2024-09-25T15:21:04.241Z"
   },
   {
    "duration": 28,
    "start_time": "2024-09-25T15:21:04.248Z"
   },
   {
    "duration": 47,
    "start_time": "2024-09-25T15:21:04.277Z"
   },
   {
    "duration": 9,
    "start_time": "2024-09-25T15:21:04.326Z"
   },
   {
    "duration": 16,
    "start_time": "2024-09-25T15:21:04.337Z"
   },
   {
    "duration": 11,
    "start_time": "2024-09-25T15:21:04.355Z"
   },
   {
    "duration": 44,
    "start_time": "2024-09-25T15:21:04.367Z"
   },
   {
    "duration": 25,
    "start_time": "2024-09-25T15:21:04.412Z"
   },
   {
    "duration": 21,
    "start_time": "2024-09-25T15:21:04.439Z"
   },
   {
    "duration": 33,
    "start_time": "2024-09-25T15:21:04.462Z"
   },
   {
    "duration": 5,
    "start_time": "2024-09-25T15:21:04.497Z"
   },
   {
    "duration": 4,
    "start_time": "2024-09-25T15:21:04.503Z"
   },
   {
    "duration": 11,
    "start_time": "2024-09-25T15:21:04.508Z"
   },
   {
    "duration": 12,
    "start_time": "2024-09-25T15:21:04.520Z"
   },
   {
    "duration": 18,
    "start_time": "2024-09-25T15:21:04.533Z"
   },
   {
    "duration": 14,
    "start_time": "2024-09-25T15:21:04.553Z"
   },
   {
    "duration": 8,
    "start_time": "2024-09-25T15:21:04.569Z"
   },
   {
    "duration": 24,
    "start_time": "2024-09-25T15:21:04.578Z"
   },
   {
    "duration": 98,
    "start_time": "2024-09-25T15:56:07.176Z"
   },
   {
    "duration": 70,
    "start_time": "2024-09-25T16:00:29.534Z"
   },
   {
    "duration": 104,
    "start_time": "2024-09-25T16:32:46.578Z"
   },
   {
    "duration": 79,
    "start_time": "2024-09-25T16:33:49.476Z"
   },
   {
    "duration": 607,
    "start_time": "2024-09-26T14:23:25.943Z"
   },
   {
    "duration": 24,
    "start_time": "2024-09-26T14:23:26.552Z"
   },
   {
    "duration": 40,
    "start_time": "2024-09-26T14:23:26.577Z"
   },
   {
    "duration": 11,
    "start_time": "2024-09-26T14:23:26.619Z"
   },
   {
    "duration": 43,
    "start_time": "2024-09-26T14:23:26.632Z"
   },
   {
    "duration": 3,
    "start_time": "2024-09-26T14:23:26.677Z"
   },
   {
    "duration": 11,
    "start_time": "2024-09-26T14:23:26.682Z"
   },
   {
    "duration": 5,
    "start_time": "2024-09-26T14:23:26.694Z"
   },
   {
    "duration": 8,
    "start_time": "2024-09-26T14:23:26.701Z"
   },
   {
    "duration": 6,
    "start_time": "2024-09-26T14:23:26.710Z"
   },
   {
    "duration": 67,
    "start_time": "2024-09-26T14:23:26.717Z"
   },
   {
    "duration": 11,
    "start_time": "2024-09-26T14:23:26.786Z"
   },
   {
    "duration": 3,
    "start_time": "2024-09-26T14:23:26.799Z"
   },
   {
    "duration": 13,
    "start_time": "2024-09-26T14:23:26.805Z"
   },
   {
    "duration": 49,
    "start_time": "2024-09-26T14:23:26.820Z"
   },
   {
    "duration": 19,
    "start_time": "2024-09-26T14:23:26.871Z"
   },
   {
    "duration": 5,
    "start_time": "2024-09-26T14:23:26.892Z"
   },
   {
    "duration": 18,
    "start_time": "2024-09-26T14:23:26.899Z"
   },
   {
    "duration": 8,
    "start_time": "2024-09-26T14:23:26.919Z"
   },
   {
    "duration": 28,
    "start_time": "2024-09-26T14:23:26.929Z"
   },
   {
    "duration": 13,
    "start_time": "2024-09-26T14:23:26.959Z"
   },
   {
    "duration": 16,
    "start_time": "2024-09-26T14:23:26.974Z"
   },
   {
    "duration": 2127,
    "start_time": "2024-09-26T14:23:26.992Z"
   },
   {
    "duration": 0,
    "start_time": "2024-09-26T14:23:29.121Z"
   },
   {
    "duration": 0,
    "start_time": "2024-09-26T14:23:29.123Z"
   },
   {
    "duration": 0,
    "start_time": "2024-09-26T14:23:29.124Z"
   },
   {
    "duration": 3,
    "start_time": "2024-09-26T14:25:52.945Z"
   },
   {
    "duration": 1112,
    "start_time": "2024-09-26T14:26:26.595Z"
   },
   {
    "duration": 2,
    "start_time": "2024-09-26T14:26:51.930Z"
   },
   {
    "duration": 11,
    "start_time": "2024-09-26T14:27:03.319Z"
   },
   {
    "duration": 14,
    "start_time": "2024-09-26T14:31:17.049Z"
   },
   {
    "duration": 663,
    "start_time": "2024-09-26T14:34:55.832Z"
   },
   {
    "duration": 14,
    "start_time": "2024-09-26T14:35:22.407Z"
   },
   {
    "duration": 5,
    "start_time": "2024-09-26T14:36:24.985Z"
   },
   {
    "duration": 6,
    "start_time": "2024-09-26T14:37:14.319Z"
   },
   {
    "duration": 10,
    "start_time": "2024-09-26T14:39:33.541Z"
   },
   {
    "duration": 13,
    "start_time": "2024-09-26T14:39:41.920Z"
   },
   {
    "duration": 14,
    "start_time": "2024-09-26T14:40:28.856Z"
   },
   {
    "duration": 14,
    "start_time": "2024-09-26T14:40:37.677Z"
   },
   {
    "duration": 10,
    "start_time": "2024-09-26T14:45:42.290Z"
   },
   {
    "duration": 11,
    "start_time": "2024-09-26T15:00:52.093Z"
   },
   {
    "duration": 16,
    "start_time": "2024-09-26T15:04:51.333Z"
   },
   {
    "duration": 15,
    "start_time": "2024-09-26T15:05:55.695Z"
   },
   {
    "duration": 11,
    "start_time": "2024-09-26T15:12:29.131Z"
   },
   {
    "duration": 15,
    "start_time": "2024-09-26T15:20:37.962Z"
   },
   {
    "duration": 16,
    "start_time": "2024-09-26T15:20:43.331Z"
   },
   {
    "duration": 93,
    "start_time": "2024-09-26T15:35:09.754Z"
   },
   {
    "duration": 81,
    "start_time": "2024-09-26T15:36:26.650Z"
   },
   {
    "duration": 74,
    "start_time": "2024-09-26T15:40:42.104Z"
   }
  ],
  "colab": {
   "name": "dpp_template_part2.ipynb",
   "provenance": []
  },
  "kernelspec": {
   "display_name": "Python 3 (ipykernel)",
   "language": "python",
   "name": "python3"
  },
  "language_info": {
   "codemirror_mode": {
    "name": "ipython",
    "version": 3
   },
   "file_extension": ".py",
   "mimetype": "text/x-python",
   "name": "python",
   "nbconvert_exporter": "python",
   "pygments_lexer": "ipython3",
   "version": "3.9.5"
  },
  "toc": {
   "base_numbering": 1,
   "nav_menu": {},
   "number_sections": true,
   "sideBar": true,
   "skip_h1_title": true,
   "title_cell": "Table of Contents",
   "title_sidebar": "Contents",
   "toc_cell": false,
   "toc_position": {},
   "toc_section_display": true,
   "toc_window_display": false
  }
 },
 "nbformat": 4,
 "nbformat_minor": 5
}
